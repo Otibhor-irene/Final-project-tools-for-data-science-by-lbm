{
 "cells": [
  {
   "cell_type": "markdown",
   "id": "a0fd847b",
   "metadata": {},
   "source": [
    "# Data Science Tools and Ecosystem"
   ]
  },
  {
   "cell_type": "markdown",
   "id": "155a7c4f",
   "metadata": {},
   "source": [
    "In this notebook, Data Science Tools and Ecosystem are summarized."
   ]
  },
  {
   "cell_type": "markdown",
   "id": "bac9bcbd",
   "metadata": {},
   "source": [
    "Some of the popular Languages that Data Scientists use are:\n",
    "1. Python\n",
    "2. R\n",
    "3. SaS\n",
    "4. Java\n",
    "5. Matlab\n",
    "6. SQL"
   ]
  },
  {
   "cell_type": "markdown",
   "id": "6e61482c",
   "metadata": {},
   "source": [
    "**Objectives**\n",
    "- list popular languages for data science\n",
    "- List some commonly used libraries for data science\n",
    "- How to install jupyter and run python code"
   ]
  },
  {
   "cell_type": "markdown",
   "id": "fcf8e698",
   "metadata": {},
   "source": [
    "Some of the commonly used libraries used by Data Scientists include:\n",
    "1. Numpy\n",
    "2. Pandas\n",
    "3. Seaborn\n",
    "4. Plotly"
   ]
  },
  {
   "cell_type": "markdown",
   "id": "d7af2f86",
   "metadata": {},
   "source": [
    "|Data Science Tools|\n",
    "|------------------|\n",
    "|RStudio           |\n",
    "|Juypter Notebook  |\n",
    "|Apache Zeppelin   |"
   ]
  },
  {
   "cell_type": "markdown",
   "id": "f347ca06",
   "metadata": {},
   "source": [
    "### Below are a few examples of evaluating arithmetic expressions in python\n"
   ]
  },
  {
   "cell_type": "code",
   "execution_count": 1,
   "id": "3212e335",
   "metadata": {},
   "outputs": [
    {
     "data": {
      "text/plain": [
       "17"
      ]
     },
     "execution_count": 1,
     "metadata": {},
     "output_type": "execute_result"
    }
   ],
   "source": [
    "# This isa simple arthmetic expression to multiply the add intergers\n",
    "(3*4)+5"
   ]
  },
  {
   "cell_type": "code",
   "execution_count": 2,
   "id": "509e2565",
   "metadata": {},
   "outputs": [
    {
     "data": {
      "text/plain": [
       "3.3333333333333335"
      ]
     },
     "execution_count": 2,
     "metadata": {},
     "output_type": "execute_result"
    }
   ],
   "source": [
    "# This will convert 200 minutes to hours by diving by 60.\n",
    "200/60"
   ]
  },
  {
   "cell_type": "markdown",
   "id": "97fccb6a",
   "metadata": {},
   "source": [
    "## Author\n",
    "Irene Okosun"
   ]
  }
 ],
 "metadata": {
  "kernelspec": {
   "display_name": "Python 3 (ipykernel)",
   "language": "python",
   "name": "python3"
  },
  "language_info": {
   "codemirror_mode": {
    "name": "ipython",
    "version": 3
   },
   "file_extension": ".py",
   "mimetype": "text/x-python",
   "name": "python",
   "nbconvert_exporter": "python",
   "pygments_lexer": "ipython3",
   "version": "3.9.7"
  }
 },
 "nbformat": 4,
 "nbformat_minor": 5
}
